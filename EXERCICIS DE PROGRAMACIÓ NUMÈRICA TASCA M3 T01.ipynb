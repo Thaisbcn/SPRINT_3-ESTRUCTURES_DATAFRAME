{
 "cells": [
  {
   "cell_type": "markdown",
   "id": "6c932dfd",
   "metadata": {},
   "source": [
    "### Exercici 1:\n",
    "Donat el següent dataframe data = {'Col1': [50, 30, 10, 40, 20]}, ordena els valors en ordre ascendent i descendent."
   ]
  },
  {
   "cell_type": "code",
   "execution_count": 14,
   "id": "11822992",
   "metadata": {},
   "outputs": [],
   "source": [
    "import numpy as np\n",
    "import pandas as pd\n",
    "from numpy import random"
   ]
  },
  {
   "cell_type": "code",
   "execution_count": 15,
   "id": "c72b7106",
   "metadata": {},
   "outputs": [],
   "source": [
    "data = {'Col1': [50, 30, 10, 40, 20]}\n",
    "df= pd.DataFrame(data)"
   ]
  },
  {
   "cell_type": "code",
   "execution_count": 16,
   "id": "20b86950",
   "metadata": {},
   "outputs": [],
   "source": [
    "df_asc = df.sort_values(by='Col1')\n",
    "df_desc = df.sort_values(by='Col1', ascending=False)"
   ]
  },
  {
   "cell_type": "code",
   "execution_count": 17,
   "id": "12855751",
   "metadata": {},
   "outputs": [
    {
     "name": "stdout",
     "output_type": "stream",
     "text": [
      "Ordre ascendent:\n"
     ]
    },
    {
     "data": {
      "text/html": [
       "<div>\n",
       "<style scoped>\n",
       "    .dataframe tbody tr th:only-of-type {\n",
       "        vertical-align: middle;\n",
       "    }\n",
       "\n",
       "    .dataframe tbody tr th {\n",
       "        vertical-align: top;\n",
       "    }\n",
       "\n",
       "    .dataframe thead th {\n",
       "        text-align: right;\n",
       "    }\n",
       "</style>\n",
       "<table border=\"1\" class=\"dataframe\">\n",
       "  <thead>\n",
       "    <tr style=\"text-align: right;\">\n",
       "      <th></th>\n",
       "      <th>Col1</th>\n",
       "    </tr>\n",
       "  </thead>\n",
       "  <tbody>\n",
       "    <tr>\n",
       "      <th>2</th>\n",
       "      <td>10</td>\n",
       "    </tr>\n",
       "    <tr>\n",
       "      <th>4</th>\n",
       "      <td>20</td>\n",
       "    </tr>\n",
       "    <tr>\n",
       "      <th>1</th>\n",
       "      <td>30</td>\n",
       "    </tr>\n",
       "    <tr>\n",
       "      <th>3</th>\n",
       "      <td>40</td>\n",
       "    </tr>\n",
       "    <tr>\n",
       "      <th>0</th>\n",
       "      <td>50</td>\n",
       "    </tr>\n",
       "  </tbody>\n",
       "</table>\n",
       "</div>"
      ],
      "text/plain": [
       "   Col1\n",
       "2    10\n",
       "4    20\n",
       "1    30\n",
       "3    40\n",
       "0    50"
      ]
     },
     "execution_count": 17,
     "metadata": {},
     "output_type": "execute_result"
    }
   ],
   "source": [
    "print(\"Ordre ascendent:\")\n",
    "(df_asc)"
   ]
  },
  {
   "cell_type": "code",
   "execution_count": 18,
   "id": "b057fbaa",
   "metadata": {},
   "outputs": [
    {
     "name": "stdout",
     "output_type": "stream",
     "text": [
      "Ordre descendent:\n"
     ]
    },
    {
     "data": {
      "text/html": [
       "<div>\n",
       "<style scoped>\n",
       "    .dataframe tbody tr th:only-of-type {\n",
       "        vertical-align: middle;\n",
       "    }\n",
       "\n",
       "    .dataframe tbody tr th {\n",
       "        vertical-align: top;\n",
       "    }\n",
       "\n",
       "    .dataframe thead th {\n",
       "        text-align: right;\n",
       "    }\n",
       "</style>\n",
       "<table border=\"1\" class=\"dataframe\">\n",
       "  <thead>\n",
       "    <tr style=\"text-align: right;\">\n",
       "      <th></th>\n",
       "      <th>Col1</th>\n",
       "    </tr>\n",
       "  </thead>\n",
       "  <tbody>\n",
       "    <tr>\n",
       "      <th>0</th>\n",
       "      <td>50</td>\n",
       "    </tr>\n",
       "    <tr>\n",
       "      <th>3</th>\n",
       "      <td>40</td>\n",
       "    </tr>\n",
       "    <tr>\n",
       "      <th>1</th>\n",
       "      <td>30</td>\n",
       "    </tr>\n",
       "    <tr>\n",
       "      <th>4</th>\n",
       "      <td>20</td>\n",
       "    </tr>\n",
       "    <tr>\n",
       "      <th>2</th>\n",
       "      <td>10</td>\n",
       "    </tr>\n",
       "  </tbody>\n",
       "</table>\n",
       "</div>"
      ],
      "text/plain": [
       "   Col1\n",
       "0    50\n",
       "3    40\n",
       "1    30\n",
       "4    20\n",
       "2    10"
      ]
     },
     "execution_count": 18,
     "metadata": {},
     "output_type": "execute_result"
    }
   ],
   "source": [
    "print(\"Ordre descendent:\")\n",
    "(df_desc)"
   ]
  },
  {
   "cell_type": "markdown",
   "id": "10a21926",
   "metadata": {},
   "source": [
    "### Exercici 2:\n",
    "Filtra els valors que siguin més grans que 30."
   ]
  },
  {
   "cell_type": "code",
   "execution_count": 19,
   "id": "0ea76bd6",
   "metadata": {},
   "outputs": [],
   "source": [
    "data = {'Col1': [50, 30, 10, 40, 20]}\n",
    "df_filtre30 = df[df['Col1'] > 30]"
   ]
  },
  {
   "cell_type": "code",
   "execution_count": 20,
   "id": "4fee6dae",
   "metadata": {},
   "outputs": [
    {
     "name": "stdout",
     "output_type": "stream",
     "text": [
      "   Col1\n",
      "0    50\n",
      "3    40\n"
     ]
    }
   ],
   "source": [
    "print (df_filtre30)"
   ]
  },
  {
   "cell_type": "markdown",
   "id": "81c38ca5",
   "metadata": {},
   "source": [
    "### Exercici 3:\n",
    "Comptabilitza els valors únics."
   ]
  },
  {
   "cell_type": "code",
   "execution_count": 21,
   "id": "904cf363",
   "metadata": {},
   "outputs": [
    {
     "name": "stdout",
     "output_type": "stream",
     "text": [
      "Els valors únics de 'Col1' són:\n",
      "50    1\n",
      "30    1\n",
      "10    1\n",
      "40    1\n",
      "20    1\n",
      "Name: Col1, dtype: int64\n"
     ]
    }
   ],
   "source": [
    "data = {'Col1': [50, 30, 10, 40, 20]}\n",
    "conta_valores_unics = df['Col1'].value_counts()\n",
    "\n",
    "print(\"Els valors únics de 'Col1' són:\")\n",
    "print(conta_valores_unics)"
   ]
  },
  {
   "cell_type": "markdown",
   "id": "8238bc2c",
   "metadata": {},
   "source": [
    "### Exercici 4\n",
    "Donat el següent dataframe: data = {'Grup': ['A', 'B', 'A', 'B', 'A'], 'Col1': [10, 20, 30, 40, 50]}, suma les dades que pertanyen a la mateixa columna."
   ]
  },
  {
   "cell_type": "code",
   "execution_count": 22,
   "id": "39863843",
   "metadata": {},
   "outputs": [],
   "source": [
    "data = {'Grup': ['A', 'B', 'A', 'B', 'A'], 'Col1': [10, 20, 30, 40, 50]}\n",
    "df = pd.DataFrame(data)"
   ]
  },
  {
   "cell_type": "code",
   "execution_count": 23,
   "id": "0f00f78c",
   "metadata": {},
   "outputs": [],
   "source": [
    "Suma_col_igual = df.groupby('Grup')['Col1'].sum()"
   ]
  },
  {
   "cell_type": "code",
   "execution_count": 24,
   "id": "36e70cb0",
   "metadata": {},
   "outputs": [
    {
     "name": "stdout",
     "output_type": "stream",
     "text": [
      "La suma de les dades que pertanyen a la mateixa columna és:\n",
      "Grup\n",
      "A    90\n",
      "B    60\n",
      "Name: Col1, dtype: int64\n"
     ]
    }
   ],
   "source": [
    "print (\"La suma de les dades que pertanyen a la mateixa columna és:\")\n",
    "print (Suma_col_igual)"
   ]
  },
  {
   "cell_type": "markdown",
   "id": "981513dc",
   "metadata": {},
   "source": [
    "### Exercici 5\n",
    "crea una columna nova ‘Col2’ que sigui 2 si és superior al percentil 75% de la ‘Col1’, 0 si és inferior al 25% del percentil de la columna ‘Col1’ i 1 si cau entremig.\n",
    "\n"
   ]
  },
  {
   "cell_type": "code",
   "execution_count": 25,
   "id": "696b5942",
   "metadata": {},
   "outputs": [],
   "source": [
    "data = {'Grup': ['A', 'B', 'A', 'B', 'A'], 'Col1': [10, 20, 30, 40, 50]}\n",
    "df = pd.DataFrame(data)"
   ]
  },
  {
   "cell_type": "code",
   "execution_count": 26,
   "id": "41f99a00",
   "metadata": {},
   "outputs": [],
   "source": [
    "# Calcular los percentiles\n",
    "percentil_25 = df['Col1'].quantile(0.25)\n",
    "percentil_75 = df['Col1'].quantile(0.75)"
   ]
  },
  {
   "cell_type": "code",
   "execution_count": 27,
   "id": "dfda092f",
   "metadata": {},
   "outputs": [],
   "source": [
    "# Función para asignar valores a 'Col2' basados en los percentiles\n",
    "def asignar_valor(row):\n",
    "    if row['Col1'] > percentil_75:\n",
    "        return 2\n",
    "    elif row['Col1'] < percentil_25:\n",
    "        return 0\n",
    "    else:\n",
    "        return 1"
   ]
  },
  {
   "cell_type": "code",
   "execution_count": 28,
   "id": "72fdb1be",
   "metadata": {},
   "outputs": [
    {
     "name": "stdout",
     "output_type": "stream",
     "text": [
      "  Grup  Col1  Col2\n",
      "0    A    10     0\n",
      "1    B    20     1\n",
      "2    A    30     1\n",
      "3    B    40     1\n",
      "4    A    50     2\n"
     ]
    }
   ],
   "source": [
    "# Aplicar la función y crear la columna 'Col2'\n",
    "df['Col2'] = df.apply(asignar_valor, axis=1)\n",
    "\n",
    "# Mostrar el dataframe resultante\n",
    "print(df)\n",
    "\n"
   ]
  },
  {
   "cell_type": "code",
   "execution_count": null,
   "id": "d890e27e",
   "metadata": {},
   "outputs": [],
   "source": []
  }
 ],
 "metadata": {
  "kernelspec": {
   "display_name": "Python 3 (ipykernel)",
   "language": "python",
   "name": "python3"
  },
  "language_info": {
   "codemirror_mode": {
    "name": "ipython",
    "version": 3
   },
   "file_extension": ".py",
   "mimetype": "text/x-python",
   "name": "python",
   "nbconvert_exporter": "python",
   "pygments_lexer": "ipython3",
   "version": "3.10.9"
  }
 },
 "nbformat": 4,
 "nbformat_minor": 5
}
